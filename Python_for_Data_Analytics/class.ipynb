{
 "cells": [
  {
   "cell_type": "code",
   "execution_count": 4,
   "metadata": {},
   "outputs": [],
   "source": [
    "class MonthlyExpanse:\n",
    "    def __init__(self, base_rent, food, elec_bill = 0 ,symbol = \"$\"):\n",
    "        self.base_rent = base_rent\n",
    "        self.food = food\n",
    "        self.elec_bill = elec_bill\n",
    "        self.symbol = symbol\n",
    "        self.total_rent = base_rent + elec_bill\n",
    "        self.total_monthly_expanse = self.total_rent + self.food\n",
    "\n",
    "\n",
    "    def __repr__(self):\n",
    "        return f'{self.symbol}{self.base_rent:,.0f}'\n",
    "    \n",
    "    def cal_monthly_rent_expanse(self, elec_bill):\n",
    "        self.elec_bill = elec_bill\n",
    "        self.total_rent = self.base_rent + self.elec_bill\n",
    "        return f'{self.symbol}{self.base_rent:,.0f}'\n",
    "\n",
    "    def cal_total_monthly_expanse(self):\n",
    "        return f'{self.symbol}{self.total_monthly_expanse:,.0f}'\n",
    "\n"
   ]
  },
  {
   "cell_type": "code",
   "execution_count": 5,
   "metadata": {},
   "outputs": [
    {
     "data": {
      "text/plain": [
       "'$100,000'"
      ]
     },
     "execution_count": 5,
     "metadata": {},
     "output_type": "execute_result"
    }
   ],
   "source": [
    "Monthly_cost = MonthlyExpanse(100000, 300, 3)\n",
    "Monthly_cost.cal_monthly_rent_expanse(1000)"
   ]
  },
  {
   "cell_type": "code",
   "execution_count": 6,
   "metadata": {},
   "outputs": [
    {
     "name": "stdout",
     "output_type": "stream",
     "text": [
      "$1,020\n",
      "$1,320\n"
     ]
    }
   ],
   "source": [
    "class MonthlyExpanse:\n",
    "    def __init__(self, base_rent, food, elec_bill=0, symbol=\"$\"):\n",
    "        self.base_rent = base_rent\n",
    "        self.food = food\n",
    "        self.symbol = symbol\n",
    "        self.elec_bill = elec_bill\n",
    "        self.total_rent = base_rent + elec_bill\n",
    "        self.total_monthly_expanse = self.total_rent + self.food\n",
    "\n",
    "    def __repr__(self):\n",
    "        return f'{self.symbol}{self.base_rent:,.0f}'\n",
    "\n",
    "    def cal_monthly_rent_expanse(self, elec_bill):\n",
    "        self.elec_bill = elec_bill\n",
    "        self.total_rent = self.base_rent + self.elec_bill\n",
    "        self.total_monthly_expanse = self.total_rent + self.food  # Update total monthly expanse\n",
    "        return f'{self.symbol}{self.total_rent:,.0f}'\n",
    "\n",
    "    def cal_total_monthly_expanse(self):\n",
    "        return f'{self.symbol}{self.total_monthly_expanse:,.0f}'\n",
    "\n",
    "\n",
    "expanse = MonthlyExpanse(1000, 300, 150)\n",
    "print(expanse.cal_monthly_rent_expanse(20))\n",
    "print(expanse.cal_total_monthly_expanse())\n"
   ]
  }
 ],
 "metadata": {
  "kernelspec": {
   "display_name": "Python 3",
   "language": "python",
   "name": "python3"
  },
  "language_info": {
   "codemirror_mode": {
    "name": "ipython",
    "version": 3
   },
   "file_extension": ".py",
   "mimetype": "text/x-python",
   "name": "python",
   "nbconvert_exporter": "python",
   "pygments_lexer": "ipython3",
   "version": "3.13.0"
  }
 },
 "nbformat": 4,
 "nbformat_minor": 2
}
